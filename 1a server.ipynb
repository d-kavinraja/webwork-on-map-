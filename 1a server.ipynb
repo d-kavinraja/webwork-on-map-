{
 "cells": [
  {
   "cell_type": "code",
   "execution_count": 1,
   "metadata": {},
   "outputs": [
    {
     "name": "stdout",
     "output_type": "stream",
     "text": [
      "3\n",
      "hi\n",
      "hello\n",
      "yy\n",
      "ok\n"
     ]
    },
    {
     "ename": "KeyboardInterrupt",
     "evalue": "",
     "output_type": "error",
     "traceback": [
      "\u001b[0;31m---------------------------------------------------------------------------\u001b[0m",
      "\u001b[0;31mKeyboardInterrupt\u001b[0m                         Traceback (most recent call last)",
      "\u001b[1;32m/home/sec/STUDY OF SOCKET PROGRAMMING AND CLIENT – SERVER MODE/1a server.ipynb Cell 1\u001b[0m in \u001b[0;36m5\n\u001b[1;32m      <a href='vscode-notebook-cell:/home/sec/STUDY%20OF%20SOCKET%20PROGRAMMING%20AND%20CLIENT%20%E2%80%93%20SERVER%20MODE/1a%20server.ipynb#W1sZmlsZQ%3D%3D?line=2'>3</a>\u001b[0m s\u001b[39m.\u001b[39mconnect((\u001b[39m'\u001b[39m\u001b[39mlocalhost\u001b[39m\u001b[39m'\u001b[39m,\u001b[39m8000\u001b[39m))\n\u001b[1;32m      <a href='vscode-notebook-cell:/home/sec/STUDY%20OF%20SOCKET%20PROGRAMMING%20AND%20CLIENT%20%E2%80%93%20SERVER%20MODE/1a%20server.ipynb#W1sZmlsZQ%3D%3D?line=3'>4</a>\u001b[0m \u001b[39mwhile\u001b[39;00m \u001b[39mTrue\u001b[39;00m:\n\u001b[0;32m----> <a href='vscode-notebook-cell:/home/sec/STUDY%20OF%20SOCKET%20PROGRAMMING%20AND%20CLIENT%20%E2%80%93%20SERVER%20MODE/1a%20server.ipynb#W1sZmlsZQ%3D%3D?line=4'>5</a>\u001b[0m     \u001b[39mprint\u001b[39m(s\u001b[39m.\u001b[39;49mrecv(\u001b[39m1024\u001b[39;49m)\u001b[39m.\u001b[39mdecode())\n\u001b[1;32m      <a href='vscode-notebook-cell:/home/sec/STUDY%20OF%20SOCKET%20PROGRAMMING%20AND%20CLIENT%20%E2%80%93%20SERVER%20MODE/1a%20server.ipynb#W1sZmlsZQ%3D%3D?line=5'>6</a>\u001b[0m     s\u001b[39m.\u001b[39msend(\u001b[39m\"\u001b[39m\u001b[39mAcknowledgement Recived\u001b[39m\u001b[39m\"\u001b[39m\u001b[39m.\u001b[39mencode())\n",
      "\u001b[0;31mKeyboardInterrupt\u001b[0m: "
     ]
    }
   ],
   "source": [
    "import socket\n",
    "s=socket.socket()\n",
    "s.connect(('localhost',8000))\n",
    "while True:\n",
    "    print(s.recv(1024).decode())\n",
    "    s.send(\"Acknowledgement Recived\".encode())"
   ]
  }
 ],
 "metadata": {
  "kernelspec": {
   "display_name": "ml",
   "language": "python",
   "name": "python3"
  },
  "language_info": {
   "codemirror_mode": {
    "name": "ipython",
    "version": 3
   },
   "file_extension": ".py",
   "mimetype": "text/x-python",
   "name": "python",
   "nbconvert_exporter": "python",
   "pygments_lexer": "ipython3",
   "version": "3.10.4"
  },
  "orig_nbformat": 4
 },
 "nbformat": 4,
 "nbformat_minor": 2
}
