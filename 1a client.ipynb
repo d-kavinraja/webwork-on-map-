{
 "cells": [
  {
   "cell_type": "code",
   "execution_count": 1,
   "metadata": {},
   "outputs": [
    {
     "name": "stdout",
     "output_type": "stream",
     "text": [
      "Acknowledgement Recived\n",
      "Acknowledgement Recived\n",
      "Acknowledgement Recived\n",
      "Acknowledgement Recived\n"
     ]
    }
   ],
   "source": [
    "import socket\n",
    "s=socket.socket()\n",
    "s.bind(('localhost',8000))\n",
    "s.listen(5)\n",
    "c,addr=s.accept()\n",
    "while True:\n",
    "    i=input(\"Enter a data: \")\n",
    "    c.send(i.encode())\n",
    "    ack=c.recv(1024).decode()\n",
    "    if ack:\n",
    "        print(ack)\n",
    "        continue\n",
    "    else:\n",
    "        c.close()\n",
    "        break"
   ]
  }
 ],
 "metadata": {
  "kernelspec": {
   "display_name": "ml",
   "language": "python",
   "name": "python3"
  },
  "language_info": {
   "codemirror_mode": {
    "name": "ipython",
    "version": 3
   },
   "file_extension": ".py",
   "mimetype": "text/x-python",
   "name": "python",
   "nbconvert_exporter": "python",
   "pygments_lexer": "ipython3",
   "version": "3.10.4"
  },
  "orig_nbformat": 4
 },
 "nbformat": 4,
 "nbformat_minor": 2
}
